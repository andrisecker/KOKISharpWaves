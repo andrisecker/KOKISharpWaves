{
 "cells": [
  {
   "cell_type": "markdown",
   "metadata": {},
   "source": [
    "# Sharp wave-ripple network model using the new cell models"
   ]
  },
  {
   "cell_type": "markdown",
   "metadata": {},
   "source": [
    "## Imports and basic declarations"
   ]
  },
  {
   "cell_type": "code",
   "execution_count": 1,
   "metadata": {
    "ExecuteTime": {
     "end_time": "2017-04-28T10:11:20.387502Z",
     "start_time": "2017-04-28T12:11:18.450325+02:00"
    },
    "collapsed": true
   },
   "outputs": [],
   "source": [
    "#!/usr/bin/python\n",
    "# -*- coding: utf8 -*-\n",
    "\n",
    "from brian2 import *\n",
    "import numpy as np\n",
    "import matplotlib.pyplot as plt\n",
    "import os\n",
    "import gc\n",
    "import sys\n",
    "import random as pyrandom\n",
    "\n",
    "# base directory of the project\n",
    "SWBasePath = os.path.sep.join(os.path.abspath('__file__').split(os.path.sep)[:-2])\n",
    "# add the 'scripts' directory to the path. now we can import the modules in there\n",
    "sys.path.insert(0, os.path.sep.join([SWBasePath, 'scripts']))\n",
    "\n",
    "from detect_oscillations import *\n",
    "from plots import *\n",
    "\n",
    "set_device('cpp_standalone')"
   ]
  },
  {
   "cell_type": "code",
   "execution_count": 2,
   "metadata": {
    "ExecuteTime": {
     "end_time": "2017-04-28T10:11:20.398762Z",
     "start_time": "2017-04-28T12:11:20.389677+02:00"
    },
    "collapsed": false
   },
   "outputs": [],
   "source": [
    "fIn = 'wmxR_asym.txt'\n",
    "\n",
    "figures_folder = os.path.sep.join([SWBasePath, 'scripts', 'jupyter_figures'])\n",
    "if not os.path.exists(figures_folder):\n",
    "    os.makedirs(figures_folder)\n",
    "\n",
    "NE = 4000\n",
    "NI = 1000\n",
    "\n",
    "# sparseness\n",
    "eps_pyr = 0.16\n",
    "eps_bas = 0.4"
   ]
  },
  {
   "cell_type": "markdown",
   "metadata": {},
   "source": [
    "### Pyramidal cell parameters"
   ]
  },
  {
   "cell_type": "code",
   "execution_count": 3,
   "metadata": {
    "ExecuteTime": {
     "end_time": "2017-04-28T10:11:20.421243Z",
     "start_time": "2017-04-28T12:11:20.403557+02:00"
    },
    "collapsed": true
   },
   "outputs": [],
   "source": [
    "# parameters for pyr cells\n",
    "pyr_params = np.genfromtxt('pyr_params.param')\n",
    "\n",
    "z           = 1*nS\n",
    "gL_Pyr      = pyr_params[0]     * uS\n",
    "tauMem_Pyr  = pyr_params[1]     * ms\n",
    "Cm_Pyr      = tauMem_Pyr * gL_Pyr\n",
    "Vrest_Pyr   = pyr_params[2]     * mV\n",
    "reset_Pyr   = pyr_params[3]     * mV\n",
    "theta_Pyr   = pyr_params[4]     * mV\n",
    "tref_Pyr    = pyr_params[5]     * ms\n",
    "\n",
    "# Adaptation parameters for pyr cells\n",
    "a_Pyr       = pyr_params[6] * nS              # nS    Subthreshold adaptation conductance\n",
    "b_Pyr       = pyr_params[7] * nA              # nA    Spike-triggered adaptation\n",
    "delta_T_Pyr = pyr_params[8] * mV              # Slope factor\n",
    "tau_w_Pyr   = pyr_params[9] * ms              # Adaptation time constant\n",
    "v_spike_Pyr = theta_Pyr + 10 * delta_T_Pyr"
   ]
  },
  {
   "cell_type": "markdown",
   "metadata": {},
   "source": [
    "### Basket cell parameters"
   ]
  },
  {
   "cell_type": "code",
   "execution_count": 4,
   "metadata": {
    "ExecuteTime": {
     "end_time": "2017-04-28T10:11:20.440893Z",
     "start_time": "2017-04-28T12:11:20.425416+02:00"
    },
    "collapsed": true
   },
   "outputs": [],
   "source": [
    "# parameters for bas cells\n",
    "bas_params = np.genfromtxt('bas_params.param')\n",
    "\n",
    "gL_Bas      = bas_params[0] * uS\n",
    "tauMem_Bas  = bas_params[1] * ms\n",
    "Cm_Bas      = tauMem_Bas * gL_Bas\n",
    "Vrest_Bas   = bas_params[2] * mV\n",
    "reset_Bas   = bas_params[3] * mV\n",
    "theta_Bas   = bas_params[4] * mV\n",
    "tref_Bas    = bas_params[5] * ms\n",
    "\n",
    "# Adaptation parameters for pyr cells\n",
    "a_Bas       = bas_params[6] * nS              # nS    Subthreshold adaptation conductance\n",
    "b_Bas       = bas_params[7] * nA              # nA    Spike-triggered adaptation\n",
    "delta_T_Bas = bas_params[8] * mV              # Slope factor\n",
    "tau_w_Bas   = bas_params[9] * ms              # Adaptation time constant\n",
    "v_spike_Bas = theta_Bas + 10 * delta_T_Bas"
   ]
  },
  {
   "cell_type": "markdown",
   "metadata": {},
   "source": [
    "### Synaptic parameters"
   ]
  },
  {
   "cell_type": "code",
   "execution_count": 5,
   "metadata": {
    "ExecuteTime": {
     "end_time": "2017-04-28T10:11:20.830570Z",
     "start_time": "2017-04-28T12:11:20.798327+02:00"
    },
    "collapsed": false
   },
   "outputs": [],
   "source": [
    "# synaptic weights\n",
    "J_PyrInh = 7.75#0.04 #0.125  # 0.15\n",
    "J_BasExc = 0.95 #32. #4.5 #5.2083  # 4.5  # 5.2083\n",
    "J_BasInh = 6.2 #10. #8. #10. #0.95  # 0.25  # 0.15\n",
    "\n",
    "# Synaptic reversal potentials\n",
    "E_Exc = 0.0*mV\n",
    "E_Inh = -70.0*mV\n",
    "\n",
    "# Synaptic delays\n",
    "# delay_PyrExc = 4.2*ms\n",
    "# delay_PyrInh = 1.1*ms\n",
    "# delay_BasExc = 0.5*ms# * 0.67\n",
    "# delay_BasInh = 0.6*ms# * 0.67\n",
    "delay_PyrExc = 3.0*ms\n",
    "delay_PyrInh = 1.5*ms * 1.3\n",
    "delay_BasExc = 3.0*ms\n",
    "delay_BasInh = 1.5*ms * 0.6 #* 0.55\n",
    "\n",
    "# Synaptic decays -- values the same as for the simple exponential synapse\n",
    "# PyrExc_decay = 10.0*ms\n",
    "# PyrInh_decay = 3.0*ms * 1.1\n",
    "# BasExc_decay = 3.0*ms\n",
    "# BasInh_decay = 1.5*ms * 0.67\n",
    "\n",
    "# Synaptic decays -- two parameter sets from somewhere\n",
    "PyrExc_decay = 4.8  * ms # unified cikk\n",
    "PyrInh_decay = 3.3  * ms\n",
    "BasExc_decay = 2.0  * ms # unified cikk\n",
    "BasInh_decay = 1.2  * ms\n",
    "\n",
    "# PyrExc_decay = 2.5 * ms\n",
    "# PyrInh_decay = 4.0 * ms\n",
    "# BasExc_decay = 2.0 * ms\n",
    "# BasInh_decay = 2.5 * ms\n",
    "\n",
    "# Synaptic rises -- two parameter sets from somewhere\n",
    "PyrExc_rise = 0.6  * ms # unified cikk\n",
    "PyrInh_rise = 0.35 * ms\n",
    "BasExc_rise = 0.35 * ms # unified cikk\n",
    "BasInh_rise = 0.3  * ms\n",
    "\n",
    "# PyrExc_rise = 0.5  * ms\n",
    "# PyrInh_rise = 0.3  * ms\n",
    "# BasExc_rise = 0.35 * ms\n",
    "# BasInh_rise = 0.4  * ms\n",
    "\n",
    "\n",
    "# Normalization factors -- they normalize the peak of the curve to 1\n",
    "invpeak_PyrExc = (PyrExc_decay / PyrExc_rise) ** (PyrExc_rise / (PyrExc_decay - PyrExc_rise))\n",
    "\n",
    "invpeak_PyrInh = (PyrInh_decay / PyrInh_rise) ** (PyrInh_rise / (PyrInh_decay - PyrInh_rise))\n",
    "\n",
    "invpeak_BasExc = (BasExc_decay / BasExc_rise) ** (BasExc_rise / (BasExc_decay - BasExc_rise))\n",
    "\n",
    "invpeak_BasInh = (BasInh_decay / BasInh_rise) ** (BasInh_rise / (BasInh_decay - BasInh_rise))\n",
    "\n",
    "\n",
    "\n",
    "# input parameters\n",
    "p_rate_mf = 25. * Hz #5. * Hz #25.*Hz\n",
    "J_PyrMF = 18. #45.5 #18."
   ]
  },
  {
   "cell_type": "code",
   "execution_count": 6,
   "metadata": {
    "ExecuteTime": {
     "end_time": "2017-04-28T10:11:21.099651Z",
     "start_time": "2017-04-28T12:11:21.093386+02:00"
    },
    "collapsed": false
   },
   "outputs": [
    {
     "name": "stdout",
     "output_type": "stream",
     "text": [
      "J_PyrInh: 7.75\n",
      "J_BasExc: 0.95\n",
      "J_BasInh: 6.2\n"
     ]
    }
   ],
   "source": [
    "print 'J_PyrInh:', J_PyrInh\n",
    "print 'J_BasExc:', J_BasExc\n",
    "print 'J_BasInh:', J_BasInh"
   ]
  },
  {
   "cell_type": "markdown",
   "metadata": {},
   "source": [
    "### Cell model definitions"
   ]
  },
  {
   "cell_type": "code",
   "execution_count": 7,
   "metadata": {
    "ExecuteTime": {
     "end_time": "2017-04-28T10:11:21.752311Z",
     "start_time": "2017-04-28T12:11:21.745895+02:00"
    },
    "collapsed": true
   },
   "outputs": [],
   "source": [
    "eqs_adexp = '''\n",
    "dvm/dt = (-gL_Pyr*(vm-Vrest_Pyr) + gL_Pyr*delta_T_Pyr*exp((vm- theta_Pyr)/delta_T_Pyr)-w - (g_ampa*z*(vm-E_Exc) + g_gaba*z*(vm-E_Inh)))/Cm_Pyr : volt (unless refractory)\n",
    "dw/dt = (a_Pyr*(vm- Vrest_Pyr )-w)/tau_w_Pyr : amp\n",
    "dg_ampa/dt = (invpeak_PyrExc * x_ampa - g_ampa) / PyrExc_rise : 1\n",
    "dx_ampa/dt = -x_ampa / PyrExc_decay : 1\n",
    "dg_gaba/dt = (invpeak_PyrInh * x_gaba - g_gaba) / PyrInh_rise : 1\n",
    "dx_gaba/dt = -x_gaba/PyrInh_decay : 1\n",
    "'''\n",
    "\n",
    "reset_pyr = '''\n",
    "vm = reset_Pyr\n",
    "w += b_Pyr\n",
    "'''\n",
    "\n",
    "eqs_bas = '''\n",
    "dvm/dt = (-gL_Bas*(vm-Vrest_Bas) + gL_Bas*delta_T_Bas*exp((vm- theta_Bas)/delta_T_Bas)-w - (g_ampa*z*(vm-E_Exc) + g_gaba*z*(vm-E_Inh)))/Cm_Bas : volt (unless refractory)\n",
    "dw/dt = (a_Bas*(vm- Vrest_Bas )-w)/tau_w_Bas : amp\n",
    "dg_ampa/dt = (invpeak_BasExc * x_ampa - g_ampa) / BasExc_rise : 1\n",
    "dx_ampa/dt = -x_ampa/BasExc_decay : 1\n",
    "dg_gaba/dt = (invpeak_BasInh * x_gaba - g_gaba) / BasInh_rise : 1\n",
    "dx_gaba/dt = -x_gaba/BasInh_decay : 1\n",
    "'''\n",
    "\n",
    "reset_bas = '''\n",
    "vm = reset_Bas\n",
    "w += b_Bas\n",
    "'''"
   ]
  },
  {
   "cell_type": "markdown",
   "metadata": {},
   "source": [
    "## Creating and initializing populations"
   ]
  },
  {
   "cell_type": "code",
   "execution_count": 8,
   "metadata": {
    "ExecuteTime": {
     "end_time": "2017-04-28T10:11:22.522817Z",
     "start_time": "2017-04-28T12:11:22.407944+02:00"
    },
    "collapsed": false
   },
   "outputs": [],
   "source": [
    "PE = NeuronGroup(NE, model=eqs_adexp, threshold='vm > v_spike_Pyr', reset=reset_pyr, refractory=tref_Pyr, method='exponential_euler')\n",
    "PI = NeuronGroup(NI, model=eqs_bas,   threshold='vm > v_spike_Bas', reset=reset_bas, refractory=tref_Bas, method='exponential_euler')\n",
    "\n",
    "PE.vm = Vrest_Pyr\n",
    "PE.g_ampa = 0\n",
    "PE.g_gaba = 0\n",
    "\n",
    "PI.vm  = Vrest_Bas\n",
    "PI.g_ampa = 0\n",
    "PI.g_gaba = 0\n",
    "\n",
    "MF = PoissonGroup(NE, p_rate_mf)"
   ]
  },
  {
   "cell_type": "markdown",
   "metadata": {},
   "source": [
    "## Connecting the network"
   ]
  },
  {
   "cell_type": "code",
   "execution_count": 9,
   "metadata": {
    "ExecuteTime": {
     "end_time": "2017-04-28T10:11:48.498029Z",
     "start_time": "2017-04-28T12:11:23.222899+02:00"
    },
    "collapsed": false
   },
   "outputs": [
    {
     "name": "stdout",
     "output_type": "stream",
     "text": [
      "Connecting the network\n",
      "Connections done\n"
     ]
    }
   ],
   "source": [
    "print 'Connecting the network'\n",
    "\n",
    "# Poisson to Pyr\n",
    "Cext = Synapses(MF, PE, on_pre='x_ampa += J_PyrMF')#, method='rk4')\n",
    "Cext.connect(j='i')\n",
    "\n",
    "# Pyr - Pyr\n",
    "fName = os.path.join(SWBasePath, 'files', fIn)\n",
    "Wee = np.genfromtxt(fName) * 1.e9 * 4.5\n",
    "np.fill_diagonal(Wee, 0)\n",
    "gc.collect()\n",
    "\n",
    "Cee = Synapses(PE, PE, 'w_exc : 1', on_pre='x_ampa += w_exc')#, method='rk4')\n",
    "Cee.connect()\n",
    "        \n",
    "Cee.w_exc = Wee.flatten()\n",
    "Cee.delay = delay_PyrExc\n",
    "\n",
    "del Wee\n",
    "\n",
    "# Pyr - Bas\n",
    "Cei = Synapses(PE, PI, on_pre='x_ampa += J_BasExc')#, method='rk4')\n",
    "Cei.connect(p=eps_pyr)\n",
    "Cei.delay = delay_BasExc\n",
    "\n",
    "# Bas - Pyr\n",
    "Cie = Synapses(PI, PE, on_pre='x_gaba += J_PyrInh')#, method='rk4')\n",
    "Cie.connect(p=eps_bas)\n",
    "Cie.delay = delay_PyrInh\n",
    "\n",
    "# Bas - Bas\n",
    "Cii = Synapses(PI, PI, on_pre='x_gaba += J_BasInh')#, method='rk4')\n",
    "Cii.connect(p=eps_bas)\n",
    "Cii.delay = delay_BasInh\n",
    "\n",
    "print 'Connections done'"
   ]
  },
  {
   "cell_type": "markdown",
   "metadata": {},
   "source": [
    "## Defining the monitors"
   ]
  },
  {
   "cell_type": "code",
   "execution_count": 10,
   "metadata": {
    "ExecuteTime": {
     "end_time": "2017-04-28T10:11:48.512048Z",
     "start_time": "2017-04-28T12:11:48.500768+02:00"
    },
    "collapsed": true
   },
   "outputs": [],
   "source": [
    "# Monitors\n",
    "sme = SpikeMonitor(PE)\n",
    "smi = SpikeMonitor(PI)"
   ]
  },
  {
   "cell_type": "markdown",
   "metadata": {},
   "source": [
    "## Running the simulation"
   ]
  },
  {
   "cell_type": "code",
   "execution_count": 11,
   "metadata": {
    "ExecuteTime": {
     "end_time": "2017-04-28T10:12:38.280245Z",
     "start_time": "2017-04-28T12:11:48.515420+02:00"
    },
    "collapsed": false
   },
   "outputs": [],
   "source": [
    "run(10000*ms, report='text')"
   ]
  },
  {
   "cell_type": "code",
   "execution_count": 12,
   "metadata": {
    "ExecuteTime": {
     "end_time": "2017-04-28T10:12:55.458496Z",
     "start_time": "2017-04-28T12:12:55.450447+02:00"
    },
    "collapsed": false
   },
   "outputs": [
    {
     "name": "stdout",
     "output_type": "stream",
     "text": [
      "115\n",
      "0\n"
     ]
    }
   ],
   "source": [
    "# total number or spikes per population\n",
    "print sme.num_spikes\n",
    "print smi.num_spikes"
   ]
  },
  {
   "cell_type": "markdown",
   "metadata": {},
   "source": [
    "## Analysis of the oscillations"
   ]
  },
  {
   "cell_type": "code",
   "execution_count": 14,
   "metadata": {
    "ExecuteTime": {
     "end_time": "2017-04-28T10:13:16.471197Z",
     "start_time": "2017-04-28T12:13:16.423025+02:00"
    },
    "collapsed": false,
    "hide_input": false,
    "scrolled": false
   },
   "outputs": [
    {
     "name": "stdout",
     "output_type": "stream",
     "text": [
      "No activity !\n",
      "--------------------------------------------------\n"
     ]
    }
   ],
   "source": [
    "%matplotlib inline\n",
    "if sme.num_spikes > 0 and smi.num_spikes > 0:  # check if there is any activity\n",
    "    # Raster + ISI plot\n",
    "    spikeTimesE, spikingNeuronsE, poprE, ISI = preprocess_spikes(sme.spike_trains(), NE)\n",
    "    ISI = plot_raster_ISI(spikeTimesE, spikingNeuronsE, ISI, \"blue\", multiplier_=1)\n",
    "\n",
    "    spikeTimesI, spikingNeuronsI, poprI = preprocess_spikes(smi.spike_trains(), NI, calc_ISI=False)\n",
    "\n",
    "    # calling detect_oscillation functions:\n",
    "    avgReplayInterval = replay(ISI[3:16])  # bins from 150 to 850 (range of interest)\n",
    "\n",
    "    meanEr, rEAC, maxEAC, tMaxEAC, maxEACR, tMaxEACR, fE, PxxE, avgRippleFE, ripplePE = ripple(poprE, 1000)\n",
    "    avgGammaFE, gammaPE = gamma(fE, PxxE)\n",
    "    meanIr, rIAC, maxIAC, tMaxIAC, maxIACR, tMaxIACR, fI, PxxI, avgRippleFI, ripplePI = ripple(poprI, 1000)\n",
    "    avgGammaFI, gammaPI = gamma(fI, PxxI)\n",
    "\n",
    "    # Print out some info\n",
    "    print 'Mean excitatory rate: ', meanEr\n",
    "    print 'Maximum exc. autocorrelation:', maxEAC, 'at', tMaxEAC, '[ms]'\n",
    "    print 'Maximum exc. AC in ripple range:', maxEACR, 'at', tMaxEACR, '[ms]'\n",
    "    print 'Mean inhibitory rate: ', meanIr\n",
    "    print 'Maximum inh. autocorrelation:', maxIAC, 'at', tMaxIAC, '[ms]'\n",
    "    print 'Maximum inh. AC in ripple range:', maxIACR, 'at', tMaxIACR, '[ms]'\n",
    "    print ''\n",
    "    print 'Average exc. ripple freq:', avgRippleFE\n",
    "    print 'Exc. ripple power:', ripplePE\n",
    "    print 'Average exc. gamma freq:', avgGammaFE\n",
    "    print 'Exc. gamma power:', gammaPE\n",
    "    print 'Average inh. ripple freq:', avgRippleFI\n",
    "    print 'Inh. ripple power:', ripplePI\n",
    "    print 'Average inh. gamma freq:', avgGammaFI\n",
    "    print 'Inh. gamma power:', gammaPI\n",
    "    print \"--------------------------------------------------\"\n",
    "\n",
    "else:  # if there is no activity the auto-correlation function will throw an error!\n",
    "\n",
    "    print \"No activity !\"\n",
    "    print \"--------------------------------------------------\"\n"
   ]
  },
  {
   "cell_type": "markdown",
   "metadata": {},
   "source": [
    "## Plots"
   ]
  },
  {
   "cell_type": "code",
   "execution_count": 15,
   "metadata": {
    "ExecuteTime": {
     "end_time": "2017-04-28T10:13:26.930746Z",
     "start_time": "2017-04-28T12:13:26.922252+02:00"
    },
    "collapsed": false,
    "hide_input": false,
    "scrolled": false
   },
   "outputs": [],
   "source": [
    "# Plots\n",
    "if sme.num_spikes > 0 and smi.num_spikes > 0:    \n",
    "    plot_PSD(poprE, rEAC, fE, PxxE, \"Pyr_population\", 'b-', multiplier_=1)\n",
    "    plot_PSD(poprI, rIAC, fI, PxxI, \"Bas_population\", 'g-', multiplier_=1)\n",
    "\n",
    "    ymin, ymax = plot_zoomed(spikeTimesE, spikingNeuronsE, poprE, \"Pyr_population\", \"blue\", multiplier_=1)\n",
    "    plot_zoomed(spikeTimesI, spikingNeuronsI, poprI, \"Bas_population\", \"green\", multiplier_=1, Pyr_pop=False)\n",
    "    #subset = select_subset(selection, ymin, ymax)\n",
    "    #plot_detailed(msMe, subset, multiplier_=1)\n",
    "    #plot_adaptation(msMe, selection, multiplier_=1)"
   ]
  },
  {
   "cell_type": "code",
   "execution_count": null,
   "metadata": {
    "collapsed": true
   },
   "outputs": [],
   "source": []
  }
 ],
 "metadata": {
  "kernelspec": {
   "display_name": "Python 2",
   "language": "python",
   "name": "python2"
  },
  "language_info": {
   "codemirror_mode": {
    "name": "ipython",
    "version": 2
   },
   "file_extension": ".py",
   "mimetype": "text/x-python",
   "name": "python",
   "nbconvert_exporter": "python",
   "pygments_lexer": "ipython2",
   "version": "2.7.10"
  },
  "latex_envs": {
   "LaTeX_envs_menu_present": true,
   "bibliofile": "biblio.bib",
   "cite_by": "apalike",
   "current_citInitial": 1,
   "eqLabelWithNumbers": true,
   "eqNumInitial": 0,
   "labels_anchors": false,
   "latex_user_defs": false,
   "report_style_numbering": false,
   "user_envs_cfg": false
  },
  "toc": {
   "colors": {
    "hover_highlight": "#DAA520",
    "running_highlight": "#FF0000",
    "selected_highlight": "#FFD700"
   },
   "moveMenuLeft": true,
   "nav_menu": {
    "height": "261px",
    "width": "252px"
   },
   "navigate_menu": true,
   "number_sections": false,
   "sideBar": true,
   "threshold": 4,
   "toc_cell": false,
   "toc_position": {
    "height": "694px",
    "left": "0px",
    "right": "1130px",
    "top": "106px",
    "width": "229px"
   },
   "toc_section_display": "block",
   "toc_window_display": true
  }
 },
 "nbformat": 4,
 "nbformat_minor": 1
}
